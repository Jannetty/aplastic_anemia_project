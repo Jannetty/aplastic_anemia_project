{
 "cells": [
  {
   "cell_type": "code",
   "execution_count": null,
   "metadata": {},
   "outputs": [],
   "source": [
    "import numpy as np\n",
    "import pandas as pd\n",
    "import scanpy as sc\n",
    "import anndata as ad\n",
    "\n",
    "sc.settings.verbosity = 3             # verbosity: errors (0), warnings (1), info (2), hints (3)\n",
    "sc.logging.print_header()\n",
    "sc.settings.set_figure_params(dpi=80, facecolor='white')"
   ]
  },
  {
   "cell_type": "code",
   "execution_count": null,
   "metadata": {},
   "outputs": [],
   "source": [
    "hdata1 = sc.read_10x_mtx(\n",
    "    '../data/cancerdata/healthy_cd34_bm/filtered_matrices_10xgenomics/',  # the directory with the `.mtx` file\n",
    "    var_names='gene_symbols',                # use gene symbols for the variable names (variables-axis index)\n",
    "    cache=True)                              # write a cache file for faster subsequent reading\n"
   ]
  },
  {
   "cell_type": "code",
   "execution_count": null,
   "metadata": {},
   "outputs": [],
   "source": [
    "hdata2 = sc.read_10x_mtx(\n",
    "    '../data/cancerdata/healthy_cd34_bm/hua_et_al/GRCh38_1',  # the directory with the `.mtx` file\n",
    "    var_names='gene_symbols',                # use gene symbols for the variable names (variables-axis index)\n",
    "    cache=True)                              # write a cache file for faster subsequent reading\n"
   ]
  },
  {
   "cell_type": "code",
   "execution_count": null,
   "metadata": {},
   "outputs": [],
   "source": [
    "hdata2 = sc.read_10x_mtx(\n",
    "    '../data/cancerdata/healthy_cd34_bm/hua_et_al/GRCh38_1',  # the directory with the `.mtx` file\n",
    "    var_names='gene_symbols',                # use gene symbols for the variable names (variables-axis index)\n",
    "    cache=True)                              # write a cache file for faster subsequent reading\n"
   ]
  },
  {
   "cell_type": "code",
   "execution_count": null,
   "metadata": {},
   "outputs": [],
   "source": [
    "hdata3 = sc.read_10x_mtx(\n",
    "    '../data/cancerdata/healthy_cd34_bm/hua_et_al/GRCh38_2',  # the directory with the `.mtx` file\n",
    "    var_names='gene_symbols',                # use gene symbols for the variable names (variables-axis index)\n",
    "    cache=True)                              # write a cache file for faster subsequent reading\n"
   ]
  },
  {
   "cell_type": "code",
   "execution_count": null,
   "metadata": {},
   "outputs": [],
   "source": [
    "hdata4 = sc.read_10x_mtx(\n",
    "    '../data/cancerdata/healthy_cd34_bm/hua_et_al/GRCh38_3',  # the directory with the `.mtx` file\n",
    "    var_names='gene_symbols',                # use gene symbols for the variable names (variables-axis index)\n",
    "    cache=True)                              # write a cache file for faster subsequent reading\n"
   ]
  },
  {
   "cell_type": "code",
   "execution_count": null,
   "metadata": {},
   "outputs": [],
   "source": [
    "hdata5 = sc.read_10x_mtx(\n",
    "    '../data/cancerdata/healthy_cd34_bm/hua_et_al/GRCh38_4',  # the directory with the `.mtx` file\n",
    "    var_names='gene_symbols',                # use gene symbols for the variable names (variables-axis index)\n",
    "    cache=True)                              # write a cache file for faster subsequent reading\n"
   ]
  },
  {
   "cell_type": "code",
   "execution_count": null,
   "metadata": {},
   "outputs": [],
   "source": [
    "healthy_data = ad.concat([hdata1, hdata2, hdata3, hdata4, hdata5], label=\"individual\", index_unique=\"_\")\n",
    "healthy_data.var_names_make_unique()\n",
    "healthy_data.obs_names_make_unique()"
   ]
  },
  {
   "cell_type": "code",
   "execution_count": null,
   "metadata": {},
   "outputs": [],
   "source": [
    "healthy_data"
   ]
  },
  {
   "cell_type": "code",
   "execution_count": null,
   "metadata": {},
   "outputs": [],
   "source": [
    "healthy_data.obs['disease_status'] = 0\n",
    "healthy_data.obs"
   ]
  },
  {
   "cell_type": "code",
   "execution_count": null,
   "metadata": {},
   "outputs": [],
   "source": [
    "for index, row in healthy_data.obs.iterrows():\n",
    "    individual_string = row['individual'] + \" healthy\"\n",
    "    healthy_data.obs.at[index, 'individual_unique'] = individual_string"
   ]
  },
  {
   "cell_type": "code",
   "execution_count": null,
   "metadata": {},
   "outputs": [],
   "source": [
    "healthy_data.obs"
   ]
  },
  {
   "cell_type": "code",
   "execution_count": null,
   "metadata": {},
   "outputs": [],
   "source": [
    "cdata1 = sc.read_10x_mtx(\n",
    "    '../data/cancerdata/cancer_cd34_bm/notreatment1/',  # the directory with the `.mtx` file\n",
    "    var_names='gene_symbols',                # use gene symbols for the variable names (variables-axis index)\n",
    "    cache=True) "
   ]
  },
  {
   "cell_type": "code",
   "execution_count": null,
   "metadata": {},
   "outputs": [],
   "source": [
    "cdata2 = sc.read_10x_mtx(\n",
    "    '../data/cancerdata/cancer_cd34_bm/notreatment2/',  # the directory with the `.mtx` file\n",
    "    var_names='gene_symbols',                # use gene symbols for the variable names (variables-axis index)\n",
    "    cache=True) "
   ]
  },
  {
   "cell_type": "code",
   "execution_count": null,
   "metadata": {},
   "outputs": [],
   "source": [
    "cdata3 = sc.read_10x_mtx(\n",
    "    '../data/cancerdata/cancer_cd34_bm/notreatment3/',  # the directory with the `.mtx` file\n",
    "    prefix=\"GSM6447689_LTB5109.\",\n",
    "    var_names='gene_symbols',                # use gene symbols for the variable names (variables-axis index)\n",
    "    cache=True) "
   ]
  },
  {
   "cell_type": "code",
   "execution_count": null,
   "metadata": {},
   "outputs": [],
   "source": [
    "cdata4 = sc.read_10x_mtx(\n",
    "    '../data/cancerdata/cancer_cd34_bm/notreatment4/',  # the directory with the `.mtx` file\n",
    "    prefix=\"GSM6447695_SF-100109-106293.\",\n",
    "    var_names='gene_symbols',                # use gene symbols for the variable names (variables-axis index)\n",
    "    cache=True) "
   ]
  },
  {
   "cell_type": "code",
   "execution_count": null,
   "metadata": {},
   "outputs": [],
   "source": [
    "cdata5 = sc.read_10x_mtx(\n",
    "    '../data/cancerdata/cancer_cd34_bm/notreatment5/',  # the directory with the `.mtx` file\n",
    "    prefix=\"GSM6447696_SF-100109-111451.\",\n",
    "    var_names='gene_symbols',                # use gene symbols for the variable names (variables-axis index)\n",
    "    cache=True) "
   ]
  },
  {
   "cell_type": "code",
   "execution_count": null,
   "metadata": {},
   "outputs": [],
   "source": [
    "cdata6 = sc.read_10x_mtx(\n",
    "    '../data/cancerdata/cancer_cd34_bm/notreatment6/',  # the directory with the `.mtx` file\n",
    "    prefix=\"GSM6447697_SF-120628-00475.\",\n",
    "    var_names='gene_symbols',                # use gene symbols for the variable names (variables-axis index)\n",
    "    cache=True) "
   ]
  },
  {
   "cell_type": "code",
   "execution_count": null,
   "metadata": {},
   "outputs": [],
   "source": [
    "cdata7 = sc.read_10x_mtx(\n",
    "    '../data/cancerdata/cancer_cd34_bm/notreatment7/',  # the directory with the `.mtx` file\n",
    "    prefix=\"GSM6447698_SF-130612-00056.\",\n",
    "    var_names='gene_symbols',                # use gene symbols for the variable names (variables-axis index)\n",
    "    cache=True) "
   ]
  },
  {
   "cell_type": "code",
   "execution_count": null,
   "metadata": {},
   "outputs": [],
   "source": [
    "cdata8 = sc.read_10x_mtx(\n",
    "    '../data/cancerdata/cancer_cd34_bm/notreatment8/',  # the directory with the `.mtx` file\n",
    "    prefix=\"GSM6447699_SF-100109-110236.\",\n",
    "    var_names='gene_symbols',                # use gene symbols for the variable names (variables-axis index)\n",
    "    cache=True) "
   ]
  },
  {
   "cell_type": "code",
   "execution_count": null,
   "metadata": {},
   "outputs": [],
   "source": [
    "cdata9 = sc.read_10x_mtx(\n",
    "    '../data/cancerdata/cancer_cd34_bm/notreatment9/',  # the directory with the `.mtx` file\n",
    "    prefix=\"GSM6447700_SF-140401-00158.\",\n",
    "    var_names='gene_symbols',                # use gene symbols for the variable names (variables-axis index)\n",
    "    cache=True) "
   ]
  },
  {
   "cell_type": "code",
   "execution_count": null,
   "metadata": {},
   "outputs": [],
   "source": [
    "cdata10 = sc.read_10x_mtx(\n",
    "    '../data/cancerdata/cancer_cd34_bm/notreatment10/',  # the directory with the `.mtx` file\n",
    "    prefix=\"GSM6447701_SF-140602-00025.\",\n",
    "    var_names='gene_symbols',                # use gene symbols for the variable names (variables-axis index)\n",
    "    cache=True) "
   ]
  },
  {
   "cell_type": "code",
   "execution_count": null,
   "metadata": {},
   "outputs": [],
   "source": [
    "cdata11 = sc.read_10x_mtx(\n",
    "    '../data/cancerdata/cancer_cd34_bm/notreatment11/',  # the directory with the `.mtx` file\n",
    "    prefix=\"GSM6447702_SF-140722-00012.\",\n",
    "    var_names='gene_symbols',                # use gene symbols for the variable names (variables-axis index)\n",
    "    cache=True) "
   ]
  },
  {
   "cell_type": "code",
   "execution_count": null,
   "metadata": {},
   "outputs": [],
   "source": [
    "cdata12 = sc.read_10x_mtx(\n",
    "    '../data/cancerdata/cancer_cd34_bm/notreatment12/',  # the directory with the `.mtx` file\n",
    "    prefix=\"GSM6447704_2V001.\",\n",
    "    var_names='gene_symbols',                # use gene symbols for the variable names (variables-axis index)\n",
    "    cache=True) "
   ]
  },
  {
   "cell_type": "code",
   "execution_count": null,
   "metadata": {},
   "outputs": [],
   "source": [
    "cdata13 = sc.read_10x_mtx(\n",
    "    '../data/cancerdata/cancer_cd34_bm/notreatment13/',  # the directory with the `.mtx` file\n",
    "    prefix=\"GSM6447705_SF-141010-00049.\",\n",
    "    var_names='gene_symbols',                # use gene symbols for the variable names (variables-axis index)\n",
    "    cache=True) "
   ]
  },
  {
   "cell_type": "code",
   "execution_count": null,
   "metadata": {},
   "outputs": [],
   "source": [
    "cdata14 = sc.read_10x_mtx(\n",
    "    '../data/cancerdata/cancer_cd34_bm/notreatment14/',  # the directory with the `.mtx` file\n",
    "    prefix=\"GSM6447706_SF-161129-00158.\",\n",
    "    var_names='gene_symbols',                # use gene symbols for the variable names (variables-axis index)\n",
    "    cache=True) "
   ]
  },
  {
   "cell_type": "code",
   "execution_count": null,
   "metadata": {},
   "outputs": [],
   "source": [
    "cdata15 = sc.read_10x_mtx(\n",
    "    '../data/cancerdata/cancer_cd34_bm/notreatment15/',  # the directory with the `.mtx` file\n",
    "    prefix=\"GSM6447707_6AE001.\",\n",
    "    var_names='gene_symbols',                # use gene symbols for the variable names (variables-axis index)\n",
    "    cache=True) "
   ]
  },
  {
   "cell_type": "code",
   "execution_count": null,
   "metadata": {},
   "outputs": [],
   "source": [
    "cdata16 = sc.read_10x_mtx(\n",
    "    '../data/cancerdata/cancer_cd34_bm/notreatment16/',  # the directory with the `.mtx` file\n",
    "    prefix=\"GSM6447708_6AC001.\",\n",
    "    var_names='gene_symbols',                # use gene symbols for the variable names (variables-axis index)\n",
    "    cache=True) "
   ]
  },
  {
   "cell_type": "code",
   "execution_count": null,
   "metadata": {},
   "outputs": [],
   "source": [
    "cdata17 = sc.read_10x_mtx(\n",
    "    '../data/cancerdata/cancer_cd34_bm/notreatment17/',  # the directory with the `.mtx` file\n",
    "    prefix=\"GSM6447709_6AD001.\",\n",
    "    var_names='gene_symbols',                # use gene symbols for the variable names (variables-axis index)\n",
    "    cache=True) "
   ]
  },
  {
   "cell_type": "code",
   "execution_count": null,
   "metadata": {},
   "outputs": [],
   "source": [
    "cdata18 = sc.read_10x_mtx(\n",
    "    '../data/cancerdata/cancer_cd34_bm/notreatment18/',  # the directory with the `.mtx` file\n",
    "    prefix=\"GSM6447710_SF-100109-101914.\",\n",
    "    var_names='gene_symbols',                # use gene symbols for the variable names (variables-axis index)\n",
    "    cache=True) "
   ]
  },
  {
   "cell_type": "code",
   "execution_count": null,
   "metadata": {},
   "outputs": [],
   "source": [
    "cdata19 = sc.read_10x_mtx(\n",
    "    '../data/cancerdata/cancer_cd34_bm/notreatment19/',  # the directory with the `.mtx` file\n",
    "    prefix=\"GSM6447711_SF-120425-00035.\",\n",
    "    var_names='gene_symbols',                # use gene symbols for the variable names (variables-axis index)\n",
    "    cache=True) "
   ]
  },
  {
   "cell_type": "code",
   "execution_count": null,
   "metadata": {},
   "outputs": [],
   "source": [
    "cdata20 = sc.read_10x_mtx(\n",
    "    '../data/cancerdata/cancer_cd34_bm/notreatment20/',  # the directory with the `.mtx` file\n",
    "    prefix=\"GSM6447712_6AD001.rep2.\",\n",
    "    var_names='gene_symbols',                # use gene symbols for the variable names (variables-axis index)\n",
    "    cache=True) "
   ]
  },
  {
   "cell_type": "code",
   "execution_count": null,
   "metadata": {},
   "outputs": [],
   "source": [
    "cdata21 = sc.read_10x_mtx(\n",
    "    '../data/cancerdata/cancer_cd34_bm/notreatment21/',  # the directory with the `.mtx` file\n",
    "    prefix=\"GSM6447713_SF-120926-00014.\",\n",
    "    var_names='gene_symbols',                # use gene symbols for the variable names (variables-axis index)\n",
    "    cache=True) "
   ]
  },
  {
   "cell_type": "code",
   "execution_count": null,
   "metadata": {},
   "outputs": [],
   "source": [
    "cdata22 = sc.read_10x_mtx(\n",
    "    '../data/cancerdata/cancer_cd34_bm/notreatment22/',  # the directory with the `.mtx` file\n",
    "    prefix=\"GSM6447714_SF-140318-00065.\",\n",
    "    var_names='gene_symbols',                # use gene symbols for the variable names (variables-axis index)\n",
    "    cache=True) "
   ]
  },
  {
   "cell_type": "code",
   "execution_count": null,
   "metadata": {},
   "outputs": [],
   "source": [
    "cdata23 = sc.read_10x_mtx(\n",
    "    '../data/cancerdata/cancer_cd34_bm/notreatment23/',  # the directory with the `.mtx` file\n",
    "    prefix=\"GSM6447715_SF-140507-00419.\",\n",
    "    var_names='gene_symbols',                # use gene symbols for the variable names (variables-axis index)\n",
    "    cache=True) "
   ]
  },
  {
   "cell_type": "code",
   "execution_count": null,
   "metadata": {},
   "outputs": [],
   "source": [
    "cdata24 = sc.read_10x_mtx(\n",
    "    '../data/cancerdata/cancer_cd34_bm/notreatment24/',  # the directory with the `.mtx` file\n",
    "    prefix=\"GSM6447716_SF-160268-00045.\",\n",
    "    var_names='gene_symbols',                # use gene symbols for the variable names (variables-axis index)\n",
    "    cache=True) "
   ]
  },
  {
   "cell_type": "code",
   "execution_count": null,
   "metadata": {},
   "outputs": [],
   "source": [
    "cdata25 = sc.read_10x_mtx(\n",
    "    '../data/cancerdata/cancer_cd34_bm/notreatment25/',  # the directory with the `.mtx` file\n",
    "    prefix=\"GSM6447717_SF-160722-00003.\",\n",
    "    var_names='gene_symbols',                # use gene symbols for the variable names (variables-axis index)\n",
    "    cache=True) "
   ]
  },
  {
   "cell_type": "code",
   "execution_count": null,
   "metadata": {},
   "outputs": [],
   "source": [
    "cdata26 = sc.read_10x_mtx(\n",
    "    '../data/cancerdata/cancer_cd34_bm/notreatment26/',  # the directory with the `.mtx` file\n",
    "    prefix=\"GSM6447718_SF-161123-00029.\",\n",
    "    var_names='gene_symbols',                # use gene symbols for the variable names (variables-axis index)\n",
    "    cache=True) "
   ]
  },
  {
   "cell_type": "code",
   "execution_count": null,
   "metadata": {},
   "outputs": [],
   "source": [
    "cancer_data = ad.concat([cdata1, cdata2, cdata3, cdata4, cdata5, cdata6, cdata7, cdata8, cdata9, cdata10, cdata11, cdata12, cdata13, cdata14, cdata15, cdata16, cdata17, cdata18, cdata19, cdata20, cdata21, cdata22, cdata23, cdata24, cdata25, cdata26], label=\"individual\", index_unique=\"_\")\n",
    "cancer_data.var_names_make_unique()\n",
    "cancer_data.obs_names_make_unique()"
   ]
  },
  {
   "cell_type": "code",
   "execution_count": null,
   "metadata": {},
   "outputs": [],
   "source": [
    "cancer_data.obs['disease_status'] = 1\n",
    "cancer_data.obs"
   ]
  },
  {
   "cell_type": "code",
   "execution_count": null,
   "metadata": {},
   "outputs": [],
   "source": [
    "for index, row in cancer_data.obs.iterrows():\n",
    "    individual_string = row['individual'] + \" cancer\"\n",
    "    cancer_data.obs.at[index, 'individual_unique'] = individual_string"
   ]
  },
  {
   "cell_type": "code",
   "execution_count": null,
   "metadata": {},
   "outputs": [],
   "source": [
    "cancer_data.obs"
   ]
  },
  {
   "cell_type": "code",
   "execution_count": null,
   "metadata": {},
   "outputs": [],
   "source": [
    "cancer_data.obs"
   ]
  },
  {
   "cell_type": "code",
   "execution_count": null,
   "metadata": {},
   "outputs": [],
   "source": [
    "all_data = ad.concat([healthy_data, cancer_data], label=\"dataset\", index_unique=\"_\")\n",
    "all_data.var_names_make_unique()\n",
    "all_data.obs_names_make_unique()\n",
    "all_data"
   ]
  },
  {
   "cell_type": "code",
   "execution_count": null,
   "metadata": {},
   "outputs": [],
   "source": [
    "all_data.obs"
   ]
  },
  {
   "cell_type": "code",
   "execution_count": null,
   "metadata": {},
   "outputs": [],
   "source": []
  },
  {
   "cell_type": "markdown",
   "metadata": {},
   "source": [
    "---\n",
    "Scanpy Tutorial"
   ]
  },
  {
   "cell_type": "code",
   "execution_count": null,
   "metadata": {},
   "outputs": [],
   "source": [
    "sc.pp.filter_cells(all_data, min_genes=200)\n",
    "sc.pp.filter_genes(all_data, min_cells=3)"
   ]
  },
  {
   "cell_type": "code",
   "execution_count": null,
   "metadata": {},
   "outputs": [],
   "source": [
    "all_data.layers[\"counts\"] = all_data.X.copy() #this is needed for scvi later"
   ]
  },
  {
   "cell_type": "code",
   "execution_count": null,
   "metadata": {},
   "outputs": [],
   "source": [
    "sc.pp.normalize_total(all_data, target_sum=1e4)"
   ]
  },
  {
   "cell_type": "code",
   "execution_count": null,
   "metadata": {},
   "outputs": [],
   "source": [
    "sc.pp.log1p(all_data)"
   ]
  },
  {
   "cell_type": "code",
   "execution_count": null,
   "metadata": {},
   "outputs": [],
   "source": [
    "sc.pp.highly_variable_genes(all_data, min_mean=0.0125, max_mean=3, min_disp=0.5)"
   ]
  },
  {
   "cell_type": "code",
   "execution_count": null,
   "metadata": {},
   "outputs": [],
   "source": [
    "sc.pl.highly_variable_genes(all_data)"
   ]
  },
  {
   "cell_type": "code",
   "execution_count": null,
   "metadata": {},
   "outputs": [],
   "source": [
    "all_data.raw = all_data"
   ]
  },
  {
   "cell_type": "code",
   "execution_count": null,
   "metadata": {},
   "outputs": [],
   "source": [
    "sc.pp.scale(all_data, max_value=10)"
   ]
  },
  {
   "cell_type": "code",
   "execution_count": null,
   "metadata": {},
   "outputs": [],
   "source": [
    "sc.tl.pca(all_data, svd_solver='arpack')"
   ]
  },
  {
   "cell_type": "code",
   "execution_count": null,
   "metadata": {},
   "outputs": [],
   "source": [
    "sc.pl.pca(all_data, color='disease_status')"
   ]
  },
  {
   "cell_type": "code",
   "execution_count": null,
   "metadata": {},
   "outputs": [],
   "source": [
    "sc.pl.pca_variance_ratio(all_data, log=False)"
   ]
  },
  {
   "cell_type": "code",
   "execution_count": null,
   "metadata": {},
   "outputs": [],
   "source": [
    "sc.pp.neighbors(all_data, n_neighbors=10, n_pcs=50)"
   ]
  },
  {
   "cell_type": "code",
   "execution_count": null,
   "metadata": {},
   "outputs": [],
   "source": [
    "sc.tl.umap(all_data)"
   ]
  },
  {
   "cell_type": "code",
   "execution_count": null,
   "metadata": {},
   "outputs": [],
   "source": [
    "sc.pl.umap(all_data, color=['disease_status'])"
   ]
  },
  {
   "cell_type": "markdown",
   "metadata": {},
   "source": [
    "----\n",
    "SCVI on all_data as count matrix"
   ]
  },
  {
   "cell_type": "code",
   "execution_count": null,
   "metadata": {},
   "outputs": [],
   "source": [
    "import scvi"
   ]
  },
  {
   "cell_type": "code",
   "execution_count": null,
   "metadata": {},
   "outputs": [],
   "source": [
    "scvi.model.SCVI.setup_anndata(all_data, layer=\"counts\", categorical_covariate_keys=[\"individual_unique\"])"
   ]
  },
  {
   "cell_type": "code",
   "execution_count": null,
   "metadata": {},
   "outputs": [],
   "source": [
    "vae = scvi.model.SCVI(all_data)\n",
    "vae"
   ]
  },
  {
   "cell_type": "code",
   "execution_count": null,
   "metadata": {},
   "outputs": [],
   "source": [
    "vae.train()"
   ]
  },
  {
   "cell_type": "code",
   "execution_count": null,
   "metadata": {},
   "outputs": [],
   "source": []
  }
 ],
 "metadata": {
  "language_info": {
   "name": "python",
   "pygments_lexer": "ipython3"
  }
 },
 "nbformat": 4,
 "nbformat_minor": 2
}
