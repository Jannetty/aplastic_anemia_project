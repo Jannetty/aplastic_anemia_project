{
 "cells": [
  {
   "cell_type": "code",
   "execution_count": null,
   "metadata": {},
   "outputs": [],
   "source": [
    "import pandas as pd\n",
    "import math\n",
    "import numpy as np\n",
    "import scipy.io\n",
    "import scipy.sparse"
   ]
  },
  {
   "cell_type": "markdown",
   "metadata": {},
   "source": [
    "---"
   ]
  },
  {
   "cell_type": "markdown",
   "metadata": {},
   "source": [
    "# Hu et al"
   ]
  },
  {
   "cell_type": "markdown",
   "metadata": {},
   "source": [
    "### The barcodes are cells (each cell has a unique barcode)"
   ]
  },
  {
   "cell_type": "code",
   "execution_count": null,
   "metadata": {},
   "outputs": [],
   "source": [
    "hu_aa_p1_barcode = pd.read_csv('Huetal2022/AA_patient_1/GSM5515741_AA1_barcodes.tsv', sep='\\t', header=None)\n",
    "hu_aa_p1_barcode\n"
   ]
  },
  {
   "cell_type": "markdown",
   "metadata": {},
   "source": [
    "### The features are genes (each row describes a gene and the type of info collected for that gene (here all Gene Expression)"
   ]
  },
  {
   "cell_type": "code",
   "execution_count": null,
   "metadata": {},
   "outputs": [],
   "source": [
    "hu_aa_p1_features = pd.read_csv('Huetal2022/AA_patient_1/GSM5515741_AA1_features.tsv', sep='\\t', header=None)\n",
    "hu_aa_p1_features"
   ]
  },
  {
   "cell_type": "markdown",
   "metadata": {},
   "source": [
    "### The data matrix rows are genes and columns are cells. The indices match the indices of the files imported above. Matries are sparse (common in scRNAseq due to dropout)"
   ]
  },
  {
   "cell_type": "code",
   "execution_count": null,
   "metadata": {},
   "outputs": [],
   "source": [
    "hu_aa_p1_data_mtx = scipy.io.mmread('Huetal2022/AA_patient_1/GSM5515741_AA1_matrix.mtx')\n",
    "print(hu_aa_p1_data_mtx)\n",
    "hu_aa_p1_data_mtx"
   ]
  },
  {
   "cell_type": "code",
   "execution_count": null,
   "metadata": {},
   "outputs": [],
   "source": [
    "hu_aa_p1_data_df = pd.DataFrame.sparse.from_spmatrix(hu_aa_p1_data_mtx)\n",
    "hu_aa_p1_data_df"
   ]
  },
  {
   "cell_type": "markdown",
   "metadata": {},
   "source": [
    "### Importing the rest of the data"
   ]
  },
  {
   "cell_type": "code",
   "execution_count": null,
   "metadata": {},
   "outputs": [],
   "source": [
    "hu_aa_p1_data = { \"cells\": hu_aa_p1_barcode, \"genes\": hu_aa_p1_features, \"data\":hu_aa_p1_data_df}\n",
    "hu_aa_p1_data"
   ]
  },
  {
   "cell_type": "code",
   "execution_count": null,
   "metadata": {},
   "outputs": [],
   "source": [
    "hu_aa_p2_barcode = pd.read_csv('Huetal2022/AA_patient_2/GSM5515742_AA2_barcodes.tsv', sep='\\t', header=None)\n",
    "hu_aa_p2_features = pd.read_csv('Huetal2022/AA_patient_2/GSM5515742_AA2_features.tsv', sep='\\t', header=None)\n",
    "hu_aa_p2_data_mtx = scipy.io.mmread('Huetal2022/AA_patient_2/GSM5515742_AA2_matrix.mtx')\n",
    "hu_aa_p2_data_df = pd.DataFrame.sparse.from_spmatrix(hu_aa_p2_data_mtx)\n",
    "hu_aa_p2_data = { \"cells\": hu_aa_p2_barcode, \"genes\": hu_aa_p2_features, \"data\":hu_aa_p2_data_df}\n",
    "hu_aa_p2_data"
   ]
  },
  {
   "cell_type": "code",
   "execution_count": null,
   "metadata": {},
   "outputs": [],
   "source": [
    "hu_n_p1_barcode = pd.read_csv('Huetal2022/N_patient_1/GSM5515743_Normal1_barcodes.tsv', sep='\\t', header=None)\n",
    "hu_n_p1_features = pd.read_csv('Huetal2022/N_patient_1/GSM5515743_Normal1_features.tsv', sep='\\t', header=None)\n",
    "hu_n_p1_data_mtx = scipy.io.mmread('Huetal2022/N_patient_1/GSM5515743_Normal1_matrix.mtx')\n",
    "hu_n_p1_data_df = pd.DataFrame.sparse.from_spmatrix(hu_n_p1_data_mtx)\n",
    "hu_n_p1_data = { \"cells\": hu_n_p1_barcode, \"genes\": hu_n_p1_features, \"data\":hu_n_p1_data_df}\n",
    "hu_n_p1_data"
   ]
  },
  {
   "cell_type": "code",
   "execution_count": null,
   "metadata": {},
   "outputs": [],
   "source": [
    "hu_n_p2_barcode = pd.read_csv('Huetal2022/N_patient_2/GSM5515744_Normal2_barcodes.tsv', sep='\\t', header=None)\n",
    "hu_n_p2_features = pd.read_csv('Huetal2022/N_patient_2/GSM5515744_Normal2_features.tsv', sep='\\t', header=None)\n",
    "hu_n_p2_data_mtx = scipy.io.mmread('Huetal2022/N_patient_2/GSM5515744_Normal2_matrix.mtx')\n",
    "hu_n_p2_data_df = pd.DataFrame.sparse.from_spmatrix(hu_n_p2_data_mtx)\n",
    "hu_n_p2_data = { \"cells\": hu_n_p2_barcode, \"genes\": hu_n_p2_features, \"data\":hu_n_p2_data_df}\n",
    "hu_n_p2_data"
   ]
  },
  {
   "cell_type": "markdown",
   "metadata": {},
   "source": [
    "---"
   ]
  },
  {
   "cell_type": "markdown",
   "metadata": {},
   "source": [
    "# Zhu et al"
   ]
  },
  {
   "cell_type": "markdown",
   "metadata": {},
   "source": [
    "## Full length scRNAseq data"
   ]
  },
  {
   "cell_type": "markdown",
   "metadata": {},
   "source": [
    "I pulled a few things out of the metadata file that I thought were most relevant (the file is enormous and terribly formatted). I can definitely pull more things if needed"
   ]
  },
  {
   "cell_type": "code",
   "execution_count": null,
   "metadata": {},
   "outputs": [],
   "source": [
    "zhu_fl_meta = pd.read_csv('Zhuetal2021/full_len/metadata_subsample.txt', sep=\"\\t\", index_col=0)\n",
    "zhu_fl_meta"
   ]
  },
  {
   "cell_type": "markdown",
   "metadata": {},
   "source": [
    "Columns are cells (corresponding to Sample_title in the metadata), rows are genes"
   ]
  },
  {
   "cell_type": "code",
   "execution_count": null,
   "metadata": {},
   "outputs": [],
   "source": [
    "zhu_fl_sc_counts = pd.read_csv('Zhuetal2021/full_len/GSE145531_Full_length_SingleCell_counts.txt', sep='\\t')\n",
    "zhu_fl_sc_counts"
   ]
  },
  {
   "cell_type": "markdown",
   "metadata": {},
   "source": [
    "## 3' RNAseq"
   ]
  },
  {
   "cell_type": "markdown",
   "metadata": {},
   "source": [
    "I got lazy this time and only removed the rows that weren't the right length from this metadata file"
   ]
  },
  {
   "cell_type": "code",
   "execution_count": null,
   "metadata": {},
   "outputs": [],
   "source": [
    "zhu_3p_meta = pd.read_csv('Zhuetal2021/3prime/GSE145668_series_matrix_subset.txt', sep=\"\\t\", index_col=0)\n",
    "zhu_3p_meta"
   ]
  },
  {
   "cell_type": "markdown",
   "metadata": {},
   "source": [
    "Columns (except the first two cols) are cells (corresponding to Sample_title in the metadata), rows are genes"
   ]
  },
  {
   "cell_type": "code",
   "execution_count": null,
   "metadata": {},
   "outputs": [],
   "source": [
    "zhu_3p_sc_AA_counts = pd.read_csv('Zhuetal2021/3prime/GSE145668_AA_cells_counts.txt', sep='\\t')\n",
    "zhu_3p_sc_AA_counts"
   ]
  },
  {
   "cell_type": "code",
   "execution_count": null,
   "metadata": {},
   "outputs": [],
   "source": [
    "zhu_3p_sc_Cntrl_counts = pd.read_csv('Zhuetal2021/3prime/GSE145668_Ctrl_cells_counts.txt', sep='\\t')\n",
    "zhu_3p_sc_Cntrl_counts"
   ]
  },
  {
   "cell_type": "markdown",
   "metadata": {},
   "source": [
    "I think we probably shouldn't use the treatment data but it is here:"
   ]
  },
  {
   "cell_type": "code",
   "execution_count": null,
   "metadata": {},
   "outputs": [],
   "source": [
    "zhu_3p_sc_Response_counts = pd.read_csv('Zhuetal2021/3prime/GSE145668_Response_cells_counts.txt', sep='\\t')\n",
    "zhu_3p_sc_Response_counts"
   ]
  },
  {
   "cell_type": "markdown",
   "metadata": {},
   "source": [
    "---"
   ]
  },
  {
   "cell_type": "markdown",
   "metadata": {},
   "source": [
    "### Separating out the AA from the Healthy data in `zhu_fl_sc_counts`"
   ]
  },
  {
   "cell_type": "code",
   "execution_count": null,
   "metadata": {},
   "outputs": [],
   "source": [
    "zhu_fl_meta_t = zhu_fl_meta.T\n",
    "zhu_fl_meta_t"
   ]
  },
  {
   "cell_type": "code",
   "execution_count": null,
   "metadata": {},
   "outputs": [],
   "source": [
    "non_severe_AA_patients = zhu_fl_meta_t.loc[zhu_fl_meta_t['Sample_disease_state'] == \"disease state: non-SAA\"]\n",
    "non_severe_AA_patients"
   ]
  },
  {
   "cell_type": "code",
   "execution_count": null,
   "metadata": {},
   "outputs": [],
   "source": [
    "healthy_patients = zhu_fl_meta_t.loc[zhu_fl_meta_t['Sample_disease_state'] == \"disease state: Ctrl\"]\n",
    "healthy_patients"
   ]
  },
  {
   "cell_type": "code",
   "execution_count": null,
   "metadata": {},
   "outputs": [],
   "source": [
    "zhu_fl_sc_aa_counts = zhu_fl_sc_counts.filter(axis=1, items=list(non_severe_AA_patients.index))\n",
    "zhu_fl_sc_aa_counts"
   ]
  },
  {
   "cell_type": "code",
   "execution_count": null,
   "metadata": {},
   "outputs": [],
   "source": [
    "zhu_fl_sc_healthy_counts = zhu_fl_sc_counts.filter(axis=1, items=list(healthy_patients.index))\n",
    "zhu_fl_sc_healthy_counts"
   ]
  },
  {
   "cell_type": "markdown",
   "metadata": {},
   "source": [
    "---"
   ]
  },
  {
   "cell_type": "markdown",
   "metadata": {},
   "source": [
    "# Quick overview of which read data is where"
   ]
  },
  {
   "cell_type": "markdown",
   "metadata": {},
   "source": [
    "Aplastic anemia data for Hu is in `hu_aa_p1_data['data']` and `hu_aa_p2_data['data']`.\n",
    "\n",
    "Healthy data for Hu is in `hu_n_p1_data['data']` and `hu_n_p2_data['data']`\n",
    "\n",
    "Full Length Aplastic anemia data for Zhu is in `zhu_fl_sc_aa_counts`\n",
    "\n",
    "Full Length Helathy data for Zhy is in `zhu_fl_sc_healthy_counts`\n",
    "\n",
    "3 prime Aplastic anemia data for Zhu is in `zhu_3p_sc_AA_counts`\n",
    "\n",
    "3 prime Healthy data for Zhu is in `zhu_3p_sc_Cntrl_counts`\n",
    "\n",
    "I don't think we should use the Zhu Response data (at least not until I read the paper more closely and understand what they did)"
   ]
  },
  {
   "cell_type": "markdown",
   "metadata": {},
   "source": [
    "---"
   ]
  },
  {
   "cell_type": "markdown",
   "metadata": {},
   "source": [
    "# Finding overlap in genes between two studies"
   ]
  },
  {
   "cell_type": "code",
   "execution_count": null,
   "metadata": {},
   "outputs": [],
   "source": [
    "hu_aa_p1_data['genes'].equals(hu_aa_p2_data['genes'])"
   ]
  },
  {
   "cell_type": "code",
   "execution_count": null,
   "metadata": {},
   "outputs": [],
   "source": [
    "hu_aa_p1_data['genes'].equals(hu_n_p1_data['genes'])"
   ]
  },
  {
   "cell_type": "code",
   "execution_count": null,
   "metadata": {},
   "outputs": [],
   "source": [
    "hu_aa_p1_data['genes'].equals(hu_n_p2_data['genes'])"
   ]
  },
  {
   "cell_type": "markdown",
   "metadata": {},
   "source": [
    "Hu genes are the same for each patient"
   ]
  },
  {
   "cell_type": "code",
   "execution_count": null,
   "metadata": {},
   "outputs": [],
   "source": [
    "hu_genes = hu_aa_p1_data['genes'][0]\n",
    "hu_genes"
   ]
  },
  {
   "cell_type": "code",
   "execution_count": null,
   "metadata": {},
   "outputs": [],
   "source": [
    "zhu_fl_genes_decimals = pd.core.series.Series(zhu_fl_sc_counts.index.values)\n",
    "zhu_fl_genes = zhu_fl_genes_decimals.apply(lambda x: x.split('.')[0])\n",
    "zhu_fl_genes"
   ]
  },
  {
   "cell_type": "code",
   "execution_count": null,
   "metadata": {},
   "outputs": [],
   "source": [
    "hu_zhufl_common_genes_set = set(hu_genes).intersection(set(zhu_fl_genes))\n",
    "hu_zhufl_common_genes_series = pd.core.series.Series(list(hu_zhufl_common_genes_set))\n",
    "hu_zhufl_common_genes_series"
   ]
  },
  {
   "cell_type": "markdown",
   "metadata": {},
   "source": [
    "### Those have **26,415** genes in common, lets add the 3prime data"
   ]
  },
  {
   "cell_type": "code",
   "execution_count": null,
   "metadata": {},
   "outputs": [],
   "source": [
    "zhu_3p_aa_genes = zhu_3p_sc_AA_counts['GeneName'].apply(lambda x: x.split('.')[0])\n",
    "zhu_3p_aa_genes"
   ]
  },
  {
   "cell_type": "code",
   "execution_count": null,
   "metadata": {},
   "outputs": [],
   "source": [
    "zhu_3p_cntrl_genes = zhu_3p_sc_Cntrl_counts['GeneName'].apply(lambda x: x.split('.')[0])\n",
    "zhu_3p_cntrl_genes"
   ]
  },
  {
   "cell_type": "markdown",
   "metadata": {},
   "source": [
    "Genes in common between Zhu aa 3' seq abd Zhu control 3' seq:"
   ]
  },
  {
   "cell_type": "code",
   "execution_count": null,
   "metadata": {},
   "outputs": [],
   "source": [
    "zhu_3p_aa_cntrl_common_genes_set = set(zhu_3p_aa_genes).intersection(set(zhu_3p_cntrl_genes))\n",
    "zhu_3p_aa_cntrl_common_genes_series = pd.core.series.Series(list(zhu_3p_aa_cntrl_common_genes_set))\n",
    "zhu_3p_aa_cntrl_common_genes_series"
   ]
  },
  {
   "cell_type": "markdown",
   "metadata": {},
   "source": [
    "Genes in common between all datasets:"
   ]
  },
  {
   "cell_type": "code",
   "execution_count": null,
   "metadata": {},
   "outputs": [],
   "source": [
    "common_genes_to_all_set = hu_zhufl_common_genes_set.intersection(zhu_3p_aa_cntrl_common_genes_set)\n",
    "common_genes_to_all_series = pd.core.series.Series(list(common_genes_to_all_set))\n",
    "common_genes_to_all_series"
   ]
  },
  {
   "cell_type": "markdown",
   "metadata": {},
   "source": [
    "### 17090 genes in common across all the cells"
   ]
  },
  {
   "cell_type": "code",
   "execution_count": null,
   "metadata": {},
   "outputs": [],
   "source": []
  }
 ],
 "metadata": {
  "language_info": {
   "name": "python",
   "pygments_lexer": "ipython3"
  }
 },
 "nbformat": 4,
 "nbformat_minor": 5
}
